{
 "cells": [
  {
   "cell_type": "code",
   "execution_count": null,
   "metadata": {
    "collapsed": true
   },
   "outputs": [],
   "source": [
    "# Convert skills into machine learning training dataset\n",
    "import pandas as pd\n",
    "# Read the file\n",
    "skills=pd.read_csv(\"Importance Values.csv\")"
   ]
  },
  {
   "cell_type": "code",
   "execution_count": 2,
   "metadata": {},
   "outputs": [
    {
     "data": {
      "text/plain": [
       "8828"
      ]
     },
     "execution_count": 2,
     "metadata": {},
     "output_type": "execute_result"
    }
   ],
   "source": [
    "# Get the unique Skills to convert into column names and append Title\n",
    "columns=skills[\"Element Name\"].unique().tolist()\n",
    "columns.append(\"Title\")\n",
    "len(columns)"
   ]
  },
  {
   "cell_type": "code",
   "execution_count": 3,
   "metadata": {},
   "outputs": [
    {
     "data": {
      "text/plain": [
       "974"
      ]
     },
     "execution_count": 3,
     "metadata": {},
     "output_type": "execute_result"
    }
   ],
   "source": [
    "# Get the unique titles to convert into rows\n",
    "rows=skills[\"Title\"].unique()\n",
    "len(rows)"
   ]
  },
  {
   "cell_type": "code",
   "execution_count": null,
   "metadata": {
    "collapsed": true
   },
   "outputs": [],
   "source": [
    "# Store the result as a list of lists\n",
    "results=[]\n",
    "# For each title find the Skills Required\n",
    "for title in rows:\n",
    "    print(title)\n",
    "    # Store all the skills for the specific title as a list\n",
    "    new_row=[]\n",
    "    for sk in columns:\n",
    "        if sk!=\"Title\":\n",
    "            try:\n",
    "                val=skills.loc[(skills[\"Title\"]==title) & (skills[\"Element Name\"]==sk),\"Data Value\"].tolist()\n",
    "                new_row.append(val[0])\n",
    "            except:\n",
    "                new_row.append(0)\n",
    "    # Append the title to the new row and then append to result\n",
    "    new_row.append(title)\n",
    "    results.append(new_row)"
   ]
  },
  {
   "cell_type": "code",
   "execution_count": null,
   "metadata": {
    "collapsed": true
   },
   "outputs": [],
   "source": [
    "# Create a data frame\n",
    "DF=pd.DataFrame(results,columns=columns)\n",
    "DF"
   ]
  },
  {
   "cell_type": "code",
   "execution_count": null,
   "metadata": {
    "collapsed": true
   },
   "outputs": [],
   "source": [
    "\n",
    "# Store the dataframe into csv\n",
    "DF.to_csv(\"Knowledge_Technology_training.csv\",index=False)"
   ]
  },
  {
   "cell_type": "code",
   "execution_count": null,
   "metadata": {
    "collapsed": true
   },
   "outputs": [],
   "source": []
  }
 ],
 "metadata": {
  "kernelspec": {
   "display_name": "Python 3",
   "language": "python",
   "name": "python3"
  },
  "language_info": {
   "codemirror_mode": {
    "name": "ipython",
    "version": 3
   },
   "file_extension": ".py",
   "mimetype": "text/x-python",
   "name": "python",
   "nbconvert_exporter": "python",
   "pygments_lexer": "ipython3",
   "version": "3.6.3"
  }
 },
 "nbformat": 4,
 "nbformat_minor": 2
}
